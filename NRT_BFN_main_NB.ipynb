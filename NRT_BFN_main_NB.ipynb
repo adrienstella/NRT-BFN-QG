{
 "cells": [
  {
   "cell_type": "code",
   "execution_count": null,
   "metadata": {},
   "outputs": [],
   "source": [
    "#!/usr/bin/env python3\n",
    "# -*- coding: utf-8 -*-\n",
    "\"\"\"\n",
    "Description: A script to produce high-resolution ocean topography maps using the BFN-QG data assimilation method (F. Le Guillou).\n",
    "This algorithm takes care of downloading the input observations, pre-processing the boundary conditions, plotting the data to be used,\n",
    "performing the assimilation using MASSH, processing results, making various diagnostics on the output, and sending the maps \n",
    "and results to an external FTP server. It can be used both for near-real-time and reanalysis applications.\n",
    "\n",
    "Author: adrienstella\n",
    "Date: 2023-07-19\n",
    "\"\"\"\n",
    "\n",
    "import os\n",
    "from datetime import timedelta\n",
    "import sys"
   ]
  },
  {
   "attachments": {},
   "cell_type": "markdown",
   "metadata": {},
   "source": [
    "### Parameters to adjust"
   ]
  },
  {
   "cell_type": "code",
   "execution_count": null,
   "metadata": {},
   "outputs": [],
   "source": [
    "destination = None # Available options: 'ifremer'\n",
    "make_lagrangian_diags = False # True or False\n",
    "draw_L3 = True # True or False\n",
    "make_alongtrack_rmse = True # True or False\n",
    "make_duacs_comp = 'interactive' # Available options: 'today', 'YYYY-MM-DD' (choose a date), 'interactive', 'none'\n",
    "\n",
    "output_maps_interval = 6 # final averaging of ssh, in hours - default = 24\n",
    "\n",
    "dir_massh = '../MASSH/mapping'\n",
    "path_config = './config_ODL_ARABIAN.py' "
   ]
  },
  {
   "attachments": {},
   "cell_type": "markdown",
   "metadata": {},
   "source": [
    "###  0. INITIALIZATION"
   ]
  },
  {
   "cell_type": "code",
   "execution_count": null,
   "metadata": {},
   "outputs": [],
   "source": [
    "sys.path.append(dir_massh)\n",
    "currdir=os.getcwd()\n",
    "\n",
    "from src import exp\n",
    "config = exp.Exp(path_config)\n",
    "name_experiment = config.EXP.name_experiment\n",
    "today = config.EXP.final_date\n",
    "numdays = int((today-config.EXP.init_date)/timedelta(days = 1))\n",
    "\n",
    "lon_min = config.GRID.lon_min                            \n",
    "lon_max = config.GRID.lon_max                               \n",
    "lat_min = config.GRID.lat_min                                 \n",
    "lat_max = config.GRID.lat_max\n",
    "bbox = [lon_min, lon_max, lat_min, lat_max]   \n",
    "\n",
    "from tools.plot_tools import where_is_this\n",
    "where_is_this(bbox, 20) "
   ]
  },
  {
   "attachments": {},
   "cell_type": "markdown",
   "metadata": {},
   "source": [
    "###  1. DATA DOWNLOAD"
   ]
  },
  {
   "cell_type": "code",
   "execution_count": null,
   "metadata": {},
   "outputs": [],
   "source": [
    "from tools.ftp_transfer import download_nadirs_cmems, download_swot_nadir\n",
    "from tools.processing import make_mdt\n",
    "\n",
    "# What datasets to download\n",
    "datasets = [\n",
    "    'dataset-duacs-nrt-global-al-phy-l3', \n",
    "    'dataset-duacs-nrt-global-c2n-phy-l3', \n",
    "    'dataset-duacs-nrt-global-h2b-phy-l3',\n",
    "    'dataset-duacs-nrt-global-s3a-phy-l3',\n",
    "    'dataset-duacs-nrt-global-s3b-phy-l3',\n",
    "    'cmems_obs-sl_glo_phy-ssh_nrt_j3n-l3-duacs_PT1S',\n",
    "    'cmems_obs-sl_glo_phy-ssh_nrt_s6a-hr-l3-duacs_PT1S',\n",
    "]\n",
    "\n",
    "dataset_l4 = 'dataset-duacs-nrt-global-merged-allsat-phy-l4'\n",
    "\n",
    "# FTP connection to CMEMS server and observational data download\n",
    "download_nadirs_cmems(name_experiment, currdir, today, numdays, datasets, dataset_l4)\n",
    "download_swot_nadir(name_experiment, currdir, today)"
   ]
  },
  {
   "cell_type": "code",
   "execution_count": null,
   "metadata": {},
   "outputs": [],
   "source": [
    "# If needed, download and properly formats mdt file\n",
    "make_mdt(name_experiment, currdir,bbox)"
   ]
  },
  {
   "attachments": {},
   "cell_type": "markdown",
   "metadata": {},
   "source": [
    "### 2. BOUNDARY CONDITIONS"
   ]
  },
  {
   "cell_type": "code",
   "execution_count": null,
   "metadata": {},
   "outputs": [],
   "source": [
    "from tools.processing import compute_filled_map\n",
    "\n",
    "# Rework DUACS dataset for optimal boundary conditions : extrapolate data to fill coasts. \n",
    "# Then a mask is used in MASSH to select only ocean and avoid awkward 0 values around coasts\n",
    "BC_data_path = currdir+'/input_'+name_experiment+'/'+today.strftime('%Y%m%d')+'/dataset-duacs-nrt-global-merged-allsat-phy-l4/*.nc'\n",
    "save_new_BC_to = currdir+'/input_'+name_experiment+'/'+today.strftime('%Y%m%d')+'/duacs_l4_filled.nc'\n",
    "\n",
    "compute_filled_map(BC_data_path, save_new_BC_to, bbox)"
   ]
  },
  {
   "attachments": {},
   "cell_type": "markdown",
   "metadata": {},
   "source": [
    "### 3. DATA ASSIMILATION WITH MASSH (BFN-QG)"
   ]
  },
  {
   "cell_type": "code",
   "execution_count": null,
   "metadata": {},
   "outputs": [],
   "source": [
    "# State\n",
    "from src import state as state\n",
    "State = state.State(config)\n",
    "\n",
    "# Obs\n",
    "from src import obs as obs # if no files to open, re-download data\n",
    "dict_obs = obs.Obs(config,State)"
   ]
  },
  {
   "cell_type": "code",
   "execution_count": null,
   "metadata": {},
   "outputs": [],
   "source": [
    "if draw_L3 == True:\n",
    "    from tools.plot_tools import plot_l3_data\n",
    "\n",
    "    #FIXME: This fails if one of the datasets asked for is empty. Check in inputs that all satellites here actually have data.\n",
    "    l3_datasets = [\n",
    "        'obs*ALG',\n",
    "        'obs*C2N',\n",
    "        'obs*H2B',\n",
    "        'obs*S3A',\n",
    "        'obs*S3B',\n",
    "        'obs*SWOTN',\n",
    "        'obs*'\n",
    "    ]\n",
    "    plot_l3_data(bbox, l3_datasets, today, numdays, name_experiment)"
   ]
  },
  {
   "cell_type": "code",
   "execution_count": null,
   "metadata": {},
   "outputs": [],
   "source": [
    "# Model\n",
    "from src import mod as mod\n",
    "Model = mod.Model(config,State)\n",
    "\n",
    "# Bondary Conditions\n",
    "from src import bc as bc\n",
    "Bc = bc.Bc(config)\n",
    "\n",
    "# Inversion\n",
    "from src import inv as inv\n",
    "inv.Inv(config,State,Model,dict_obs=dict_obs,Bc=Bc)"
   ]
  },
  {
   "attachments": {},
   "cell_type": "markdown",
   "metadata": {},
   "source": [
    "### 4. RESULTS PROCESSING"
   ]
  },
  {
   "cell_type": "code",
   "execution_count": null,
   "metadata": {},
   "outputs": [],
   "source": [
    "from tools.processing import nc_processing\n",
    "nc_processing(name_experiment, today=today, numdays=6, frequency_hours = output_maps_interval)"
   ]
  },
  {
   "attachments": {},
   "cell_type": "markdown",
   "metadata": {},
   "source": [
    "### 5. DIAGNOSTICS"
   ]
  },
  {
   "attachments": {},
   "cell_type": "markdown",
   "metadata": {},
   "source": [
    "#### 5.1 DUACS comparison"
   ]
  },
  {
   "cell_type": "code",
   "execution_count": null,
   "metadata": {},
   "outputs": [],
   "source": [
    "from tools.plot_tools import plot_duacs_comp\n",
    "plot_duacs_comp(config.EXP.init_date, name_experiment, today, bbox, make_duacs_comp)"
   ]
  },
  {
   "attachments": {},
   "cell_type": "markdown",
   "metadata": {},
   "source": [
    "#### 5.2 Alongtrack observations comparison"
   ]
  },
  {
   "cell_type": "code",
   "execution_count": null,
   "metadata": {},
   "outputs": [],
   "source": [
    "if make_alongtrack_rmse == True:\n",
    "    from tools.plot_tools import plot_alongtrack_rmse, plot_25_random_tracks\n",
    "    plot_25_random_tracks('./scratch/'+name_experiment+'/', name_experiment, today.strftime('%Y%m%d'))\n",
    "    plot_alongtrack_rmse('./scratch/'+name_experiment+'/', name_experiment, today.strftime('%Y%m%d'))"
   ]
  },
  {
   "attachments": {},
   "cell_type": "markdown",
   "metadata": {},
   "source": [
    "#### 5.3 LAMTA Lagrangian diagnostics"
   ]
  },
  {
   "cell_type": "code",
   "execution_count": null,
   "metadata": {},
   "outputs": [],
   "source": [
    "if make_lagrangian_diags == True:\n",
    "    dir_lamta = '/bettik/PROJECTS/pr-data-ocean/stellaa/lamtaLR'\n",
    "    from tools.processing import apply_lamta\n",
    "    lamta_diags_results = apply_lamta(name_experiment, currdir, dir_lamta, today, bbox, numdays=30, bathylvl =-3000)"
   ]
  },
  {
   "attachments": {},
   "cell_type": "markdown",
   "metadata": {},
   "source": [
    "### 6. MAPS UPLOAD"
   ]
  },
  {
   "cell_type": "code",
   "execution_count": null,
   "metadata": {},
   "outputs": [],
   "source": [
    "# Here, make your own functions to send to somewhere else for NRT purposes. \n",
    "if destination == 'ifremer':\n",
    "    from tools.ftp_transfer import ftp_to_ifremer\n",
    "    ftp_to_ifremer(name_experiment, today, currdir)"
   ]
  }
 ],
 "metadata": {
  "kernelspec": {
   "display_name": "nrt-bfn-env",
   "language": "python",
   "name": "python3"
  },
  "language_info": {
   "codemirror_mode": {
    "name": "ipython",
    "version": 3
   },
   "file_extension": ".py",
   "mimetype": "text/x-python",
   "name": "python",
   "nbconvert_exporter": "python",
   "pygments_lexer": "ipython3",
   "version": "3.10.8"
  },
  "orig_nbformat": 4,
  "vscode": {
   "interpreter": {
    "hash": "d22b5cdf3324f686cf038778ea733aa3121663acb68cee762d48a7c47256bbbf"
   }
  }
 },
 "nbformat": 4,
 "nbformat_minor": 2
}
